{
 "cells": [
  {
   "cell_type": "markdown",
   "metadata": {},
   "source": [
    "\n",
    "# FNOを用いた2次元Darcy-Flowの学習"
   ]
  },
  {
   "cell_type": "markdown",
   "metadata": {},
   "source": [
    "#### 必要なパッケージのインポート"
   ]
  },
  {
   "cell_type": "code",
   "execution_count": 88,
   "metadata": {
    "collapsed": false
   },
   "outputs": [],
   "source": [
    "import torch\n",
    "import matplotlib.pyplot as plt\n",
    "import sys\n",
    "import datetime\n",
    "import os\n",
    "from io import StringIO\n",
    "\n",
    "from neuralop.models import FNO\n",
    "from neuralop import Trainer\n",
    "from neuralop.training import AdamW\n",
    "from neuralop.data.datasets import load_darcy_flow_small\n",
    "from neuralop.utils import count_model_params\n",
    "from neuralop import LpLoss, H1Loss"
   ]
  },
  {
   "cell_type": "markdown",
   "metadata": {},
   "source": [
    "#### コード内で使用するパラメータまとめ"
   ]
  },
  {
   "cell_type": "markdown",
   "metadata": {},
   "source": [
    "##### データの読み込み関係"
   ]
  },
  {
   "cell_type": "code",
   "execution_count": 89,
   "metadata": {},
   "outputs": [],
   "source": [
    "device = 'cpu'\n",
    "N_train = 100\n",
    "batch_size = 32\n",
    "test_resolutions = [16, 32]\n",
    "N_tests = [100, 50]\n",
    "test_batch_sizes = [32, 32]"
   ]
  },
  {
   "cell_type": "markdown",
   "metadata": {},
   "source": [
    "##### FNOモデル関係"
   ]
  },
  {
   "cell_type": "code",
   "execution_count": 90,
   "metadata": {},
   "outputs": [],
   "source": [
    "N_modes = (16, 16)\n",
    "in_channels = 1\n",
    "out_channels = 1\n",
    "hidden_channels = 32\n",
    "projection_channel_ratio = 2"
   ]
  },
  {
   "cell_type": "markdown",
   "metadata": {},
   "source": [
    "##### optimizer関係"
   ]
  },
  {
   "cell_type": "code",
   "execution_count": 91,
   "metadata": {},
   "outputs": [],
   "source": [
    "lerning_rate = 8e-3\n",
    "weight_decay = 1e-4\n",
    "T_max = 30"
   ]
  },
  {
   "cell_type": "markdown",
   "metadata": {},
   "source": [
    "##### トレーナー関係"
   ]
  },
  {
   "cell_type": "code",
   "execution_count": 92,
   "metadata": {},
   "outputs": [],
   "source": [
    "N_epochs = 20\n",
    "wandb_log = False\n",
    "eval_interval = 1\n",
    "use_distributed = False\n",
    "verbose = True\n",
    "regularizer = False"
   ]
  },
  {
   "cell_type": "markdown",
   "metadata": {},
   "source": [
    "##### ファイル出力関係"
   ]
  },
  {
   "cell_type": "code",
   "execution_count": 93,
   "metadata": {},
   "outputs": [],
   "source": [
    "dt_now = datetime.datetime.now()\n",
    "output_dir = \"../results/FNO/\" + dt_now.strftime(\"%Y-%m-%d_%H:%M:%S\") + \"/\"\n",
    "\n",
    "os.makedirs(output_dir, exist_ok=True)\n",
    "\n",
    "# 標準出力をキャプチャする関数\n",
    "def capture_output(func, *args, **kwargs):\n",
    "    # 元の標準出力を保存\n",
    "    original_stdout = sys.stdout\n",
    "    sys.stdout = StringIO()  # 標準出力をStringIOに切り替え\n",
    "\n",
    "    try:\n",
    "        func(*args, **kwargs)  # 渡された関数を実行\n",
    "        output = sys.stdout.getvalue()  # キャプチャされた出力を取得\n",
    "    finally:\n",
    "        sys.stdout = original_stdout  # 標準出力を元に戻す\n",
    "\n",
    "    return output"
   ]
  },
  {
   "cell_type": "markdown",
   "metadata": {},
   "source": [
    "#### 使用するデータの読み込み（今回はsmall Darcy-flow datasetを使用）"
   ]
  },
  {
   "cell_type": "code",
   "execution_count": 94,
   "metadata": {
    "collapsed": false
   },
   "outputs": [
    {
     "name": "stdout",
     "output_type": "stream",
     "text": [
      "Loading test db for resolution 16 with 100 samples \n",
      "Loading test db for resolution 32 with 50 samples \n"
     ]
    },
    {
     "name": "stderr",
     "output_type": "stream",
     "text": [
      "/home/shimi3435/workspace/python/neuralop_test_semi/neuraloperator/neuralop/data/datasets/pt_dataset.py:99: FutureWarning: You are using `torch.load` with `weights_only=False` (the current default value), which uses the default pickle module implicitly. It is possible to construct malicious pickle data which will execute arbitrary code during unpickling (See https://github.com/pytorch/pytorch/blob/main/SECURITY.md#untrusted-models for more details). In a future release, the default value for `weights_only` will be flipped to `True`. This limits the functions that could be executed during unpickling. Arbitrary objects will no longer be allowed to be loaded via this mode unless they are explicitly allowlisted by the user via `torch.serialization.add_safe_globals`. We recommend you start setting `weights_only=True` for any use case where you don't have full control of the loaded file. Please open an issue on GitHub for any issues related to this experimental feature.\n",
      "  data = torch.load(\n",
      "/home/shimi3435/workspace/python/neuralop_test_semi/neuraloperator/neuralop/data/datasets/pt_dataset.py:189: FutureWarning: You are using `torch.load` with `weights_only=False` (the current default value), which uses the default pickle module implicitly. It is possible to construct malicious pickle data which will execute arbitrary code during unpickling (See https://github.com/pytorch/pytorch/blob/main/SECURITY.md#untrusted-models for more details). In a future release, the default value for `weights_only` will be flipped to `True`. This limits the functions that could be executed during unpickling. Arbitrary objects will no longer be allowed to be loaded via this mode unless they are explicitly allowlisted by the user via `torch.serialization.add_safe_globals`. We recommend you start setting `weights_only=True` for any use case where you don't have full control of the loaded file. Please open an issue on GitHub for any issues related to this experimental feature.\n",
      "  data = torch.load(Path(root_dir).joinpath(f\"{dataset_name}_test_{res}.pt\").as_posix())\n"
     ]
    }
   ],
   "source": [
    "train_loader, test_loaders, data_processor = load_darcy_flow_small(\n",
    "        n_train=N_train, batch_size=batch_size, \n",
    "        test_resolutions=test_resolutions, n_tests=N_tests,\n",
    "        test_batch_sizes=test_batch_sizes,\n",
    ")\n",
    "data_processor = data_processor.to(device)"
   ]
  },
  {
   "cell_type": "markdown",
   "metadata": {},
   "source": [
    "#### FNOモデルの作成"
   ]
  },
  {
   "cell_type": "code",
   "execution_count": 95,
   "metadata": {
    "collapsed": false
   },
   "outputs": [
    {
     "name": "stdout",
     "output_type": "stream",
     "text": [
      "\n",
      "Our model has 1192801 parameters.\n"
     ]
    }
   ],
   "source": [
    "model = FNO(n_modes=N_modes,\n",
    "             in_channels=in_channels, \n",
    "             out_channels=out_channels,\n",
    "             hidden_channels=hidden_channels, \n",
    "             projection_channel_ratio=projection_channel_ratio)\n",
    "model = model.to(device)\n",
    "\n",
    "n_params = count_model_params(model)\n",
    "print(f'\\nOur model has {n_params} parameters.')\n",
    "sys.stdout.flush()"
   ]
  },
  {
   "cell_type": "markdown",
   "metadata": {},
   "source": [
    "#### optimizerの作成\n",
    "\n"
   ]
  },
  {
   "cell_type": "code",
   "execution_count": 96,
   "metadata": {
    "collapsed": false
   },
   "outputs": [],
   "source": [
    "optimizer = AdamW(model.parameters(), lr=lerning_rate, weight_decay=weight_decay)\n",
    "scheduler = torch.optim.lr_scheduler.CosineAnnealingLR(optimizer, T_max=T_max)"
   ]
  },
  {
   "cell_type": "markdown",
   "metadata": {},
   "source": [
    "#### 使用するロスの設定"
   ]
  },
  {
   "cell_type": "code",
   "execution_count": 97,
   "metadata": {
    "collapsed": false
   },
   "outputs": [],
   "source": [
    "l2loss = LpLoss(d=2, p=2)\n",
    "h1loss = H1Loss(d=2)\n",
    "\n",
    "train_loss = h1loss\n",
    "eval_losses={'h1': h1loss, 'l2': l2loss}"
   ]
  },
  {
   "cell_type": "markdown",
   "metadata": {},
   "source": [
    "#### モデル、optimizer、scheduler、ロスのログ出力"
   ]
  },
  {
   "cell_type": "code",
   "execution_count": 98,
   "metadata": {
    "collapsed": false
   },
   "outputs": [
    {
     "name": "stdout",
     "output_type": "stream",
     "text": [
      "\n",
      "### MODEL ###\n",
      " FNO(\n",
      "  (positional_embedding): GridEmbeddingND()\n",
      "  (fno_blocks): FNOBlocks(\n",
      "    (convs): ModuleList(\n",
      "      (0-3): 4 x SpectralConv(\n",
      "        (weight): DenseTensor(shape=torch.Size([32, 32, 16, 9]), rank=None)\n",
      "      )\n",
      "    )\n",
      "    (fno_skips): ModuleList(\n",
      "      (0-3): 4 x Flattened1dConv(\n",
      "        (conv): Conv1d(32, 32, kernel_size=(1,), stride=(1,), bias=False)\n",
      "      )\n",
      "    )\n",
      "    (channel_mlp): ModuleList(\n",
      "      (0-3): 4 x ChannelMLP(\n",
      "        (fcs): ModuleList(\n",
      "          (0): Conv1d(32, 16, kernel_size=(1,), stride=(1,))\n",
      "          (1): Conv1d(16, 32, kernel_size=(1,), stride=(1,))\n",
      "        )\n",
      "      )\n",
      "    )\n",
      "    (channel_mlp_skips): ModuleList(\n",
      "      (0-3): 4 x SoftGating()\n",
      "    )\n",
      "  )\n",
      "  (lifting): ChannelMLP(\n",
      "    (fcs): ModuleList(\n",
      "      (0): Conv1d(3, 64, kernel_size=(1,), stride=(1,))\n",
      "      (1): Conv1d(64, 32, kernel_size=(1,), stride=(1,))\n",
      "    )\n",
      "  )\n",
      "  (projection): ChannelMLP(\n",
      "    (fcs): ModuleList(\n",
      "      (0): Conv1d(32, 64, kernel_size=(1,), stride=(1,))\n",
      "      (1): Conv1d(64, 1, kernel_size=(1,), stride=(1,))\n",
      "    )\n",
      "  )\n",
      ")\n",
      "\n",
      "### OPTIMIZER ###\n",
      " AdamW (\n",
      "Parameter Group 0\n",
      "    betas: (0.9, 0.999)\n",
      "    correct_bias: True\n",
      "    eps: 1e-06\n",
      "    initial_lr: 0.008\n",
      "    lr: 0.008\n",
      "    weight_decay: 0.0001\n",
      ")\n",
      "\n",
      "### SCHEDULER ###\n",
      " <torch.optim.lr_scheduler.CosineAnnealingLR object at 0x7f2cb5867c70>\n",
      "\n",
      "### LOSSES ###\n",
      "\n",
      " * Train: <neuralop.losses.data_losses.H1Loss object at 0x7f2cb5867910>\n",
      "\n",
      " * Test: {'h1': <neuralop.losses.data_losses.H1Loss object at 0x7f2cb5867910>, 'l2': <neuralop.losses.data_losses.LpLoss object at 0x7f2cb59dd0c0>}\n"
     ]
    }
   ],
   "source": [
    "print('\\n### MODEL ###\\n', model)\n",
    "print('\\n### OPTIMIZER ###\\n', optimizer)\n",
    "print('\\n### SCHEDULER ###\\n', scheduler)\n",
    "print('\\n### LOSSES ###')\n",
    "print(f'\\n * Train: {train_loss}')\n",
    "print(f'\\n * Test: {eval_losses}')\n",
    "sys.stdout.flush()"
   ]
  },
  {
   "cell_type": "markdown",
   "metadata": {},
   "source": [
    "#### トレーナーの作成\n"
   ]
  },
  {
   "cell_type": "code",
   "execution_count": 99,
   "metadata": {
    "collapsed": false
   },
   "outputs": [],
   "source": [
    "trainer = Trainer(model=model, n_epochs=N_epochs,\n",
    "                  device=device,\n",
    "                  data_processor=data_processor,\n",
    "                  wandb_log=wandb_log,\n",
    "                  eval_interval=eval_interval,\n",
    "                  use_distributed=use_distributed,\n",
    "                  verbose=verbose)"
   ]
  },
  {
   "cell_type": "markdown",
   "metadata": {},
   "source": [
    "#### 学習\n"
   ]
  },
  {
   "cell_type": "code",
   "execution_count": 100,
   "metadata": {
    "collapsed": false
   },
   "outputs": [
    {
     "name": "stdout",
     "output_type": "stream",
     "text": [
      "Training on 100 samples\n",
      "Testing on [50, 50] samples         on resolutions [16, 32].\n",
      "Raw outputs of shape torch.Size([32, 1, 16, 16])\n",
      "[0] time=0.44, avg_loss=0.9912, train_err=24.7810\n",
      "Eval: 16_h1=0.8966, 16_l2=0.5834, 32_h1=0.9398, 32_l2=0.5781\n",
      "[1] time=0.35, avg_loss=0.9287, train_err=23.2169\n",
      "Eval: 16_h1=0.8827, 16_l2=0.5759, 32_h1=0.8973, 32_l2=0.5711\n",
      "[2] time=0.32, avg_loss=0.8679, train_err=21.6974\n",
      "Eval: 16_h1=0.6946, 16_l2=0.7361, 32_h1=0.7851, 32_l2=0.7554\n",
      "[3] time=0.32, avg_loss=0.6205, train_err=15.5119\n",
      "Eval: 16_h1=0.5822, 16_l2=0.6928, 32_h1=0.6832, 32_l2=0.6903\n",
      "[4] time=0.38, avg_loss=0.5494, train_err=13.7339\n",
      "Eval: 16_h1=0.4837, 16_l2=0.4670, 32_h1=0.6321, 32_l2=0.4694\n",
      "[5] time=0.33, avg_loss=0.4778, train_err=11.9460\n",
      "Eval: 16_h1=0.5057, 16_l2=0.3516, 32_h1=0.6192, 32_l2=0.3514\n",
      "[6] time=0.33, avg_loss=0.4698, train_err=11.7452\n",
      "Eval: 16_h1=0.4414, 16_l2=0.3176, 32_h1=0.6246, 32_l2=0.3209\n",
      "[7] time=0.32, avg_loss=0.4176, train_err=10.4395\n",
      "Eval: 16_h1=0.4193, 16_l2=0.2838, 32_h1=0.6124, 32_l2=0.2946\n",
      "[8] time=0.33, avg_loss=0.3840, train_err=9.5990\n",
      "Eval: 16_h1=0.3856, 16_l2=0.2578, 32_h1=0.5741, 32_l2=0.2722\n",
      "[9] time=0.32, avg_loss=0.3488, train_err=8.7207\n",
      "Eval: 16_h1=0.3538, 16_l2=0.2422, 32_h1=0.5640, 32_l2=0.2601\n",
      "[10] time=0.33, avg_loss=0.3205, train_err=8.0132\n",
      "Eval: 16_h1=0.3409, 16_l2=0.2343, 32_h1=0.5684, 32_l2=0.2581\n",
      "[11] time=0.32, avg_loss=0.3011, train_err=7.5269\n",
      "Eval: 16_h1=0.3274, 16_l2=0.2208, 32_h1=0.5601, 32_l2=0.2448\n",
      "[12] time=0.30, avg_loss=0.2879, train_err=7.1964\n",
      "Eval: 16_h1=0.3202, 16_l2=0.2182, 32_h1=0.5479, 32_l2=0.2393\n",
      "[13] time=0.34, avg_loss=0.2674, train_err=6.6848\n",
      "Eval: 16_h1=0.3022, 16_l2=0.2059, 32_h1=0.5350, 32_l2=0.2339\n",
      "[14] time=0.29, avg_loss=0.2555, train_err=6.3867\n",
      "Eval: 16_h1=0.3068, 16_l2=0.2099, 32_h1=0.5259, 32_l2=0.2356\n",
      "[15] time=0.31, avg_loss=0.2479, train_err=6.1985\n",
      "Eval: 16_h1=0.2917, 16_l2=0.1991, 32_h1=0.5327, 32_l2=0.2320\n",
      "[16] time=0.30, avg_loss=0.2364, train_err=5.9108\n",
      "Eval: 16_h1=0.3158, 16_l2=0.2166, 32_h1=0.5496, 32_l2=0.2288\n",
      "[17] time=0.30, avg_loss=0.2410, train_err=6.0256\n",
      "Eval: 16_h1=0.2857, 16_l2=0.1931, 32_h1=0.5445, 32_l2=0.2297\n",
      "[18] time=0.30, avg_loss=0.2248, train_err=5.6200\n",
      "Eval: 16_h1=0.2863, 16_l2=0.1938, 32_h1=0.5085, 32_l2=0.2153\n",
      "[19] time=0.29, avg_loss=0.2178, train_err=5.4450\n",
      "Eval: 16_h1=0.2776, 16_l2=0.1878, 32_h1=0.5311, 32_l2=0.2178\n",
      "\n"
     ]
    }
   ],
   "source": [
    "stdout = capture_output(lambda : trainer.train(train_loader=train_loader,\n",
    "              test_loaders=test_loaders,\n",
    "              optimizer=optimizer,\n",
    "              scheduler=scheduler, \n",
    "              regularizer=regularizer, \n",
    "              training_loss=train_loss,\n",
    "              eval_losses=eval_losses))\n",
    "\n",
    "print(stdout)"
   ]
  },
  {
   "cell_type": "markdown",
   "metadata": {},
   "source": [
    "#### プログラムの実行結果のファイル出力"
   ]
  },
  {
   "cell_type": "code",
   "execution_count": 101,
   "metadata": {},
   "outputs": [],
   "source": [
    "with open(output_dir + 'stdout.txt', 'w') as f:\n",
    "    f.write(stdout)\n",
    "\n",
    "with open(output_dir + 'models.txt', 'w') as f:\n",
    "    f.write(f'\\nOur model has {n_params} parameters.\\n')\n",
    "    f.write('\\n\\n### MODEL ###\\n')\n",
    "    f.write(str(model))\n",
    "    f.write('\\n\\n### OPTIMIZER ###\\n')\n",
    "    f.write(str(optimizer))\n",
    "    f.write('\\n\\n### SCHEDULER ###\\n')\n",
    "    f.write(str(scheduler))\n",
    "    f.write('\\n\\n### LOSSES ###')\n",
    "    f.write(f'\\n\\n * Train: {train_loss}')\n",
    "    f.write(f'\\n\\n * Test: {eval_losses}')\n",
    "    \n",
    "with open(output_dir + 'params.txt', 'w') as f:\n",
    "    f.write(f'N_train: {N_train}\\n')\n",
    "    f.write(f'batch_size: {batch_size}\\n')\n",
    "    f.write(f'test_resolutions: {test_resolutions}\\n')\n",
    "    f.write(f'N_tests: {N_tests}\\n')\n",
    "    f.write(f'test_batch_sizes: {test_batch_sizes}\\n')\n",
    "    f.write(f'N_modes: {N_modes}\\n')\n",
    "    f.write(f'in_channels: {in_channels}\\n')\n",
    "    f.write(f'out_channels: {out_channels}\\n')\n",
    "    f.write(f'hidden_channels: {hidden_channels}\\n')\n",
    "    f.write(f'projection_channel_ratio: {projection_channel_ratio}\\n')\n",
    "    f.write(f'lerning_rate: {lerning_rate}\\n')\n",
    "    f.write(f'weight_decay: {weight_decay}\\n')\n",
    "    f.write(f'T_max: {T_max}\\n')\n",
    "    f.write(f'N_epochs: {N_epochs}\\n')\n",
    "    f.write(f'wandb_log: {wandb_log}\\n')\n",
    "    f.write(f'eval_interval: {eval_interval}\\n')\n",
    "    f.write(f'use_distributed: {use_distributed}\\n')\n",
    "    f.write(f'verbose: {verbose}\\n')\n",
    "    f.write(f'regularizer: {regularizer}\\n')"
   ]
  },
  {
   "cell_type": "markdown",
   "metadata": {},
   "source": [
    "Visualizing predictions\n",
    "------------------------\n",
    "Let's take a look at what our model's predicted outputs look like. \n",
    "Again note that in this example, we train on a very small resolution for\n",
    "a very small number of epochs.\n",
    "In practice, we would train at a larger resolution, on many more samples.\n",
    "\n"
   ]
  },
  {
   "cell_type": "code",
   "execution_count": 102,
   "metadata": {
    "collapsed": false
   },
   "outputs": [
    {
     "data": {
      "image/png": "[encoded data removed]",
      "text/plain": [
       "<Figure size 700x700 with 9 Axes>"
      ]
     },
     "metadata": {},
     "output_type": "display_data"
    }
   ],
   "source": [
    "test_samples = test_loaders[16].dataset\n",
    "\n",
    "fig = plt.figure(figsize=(7, 7))\n",
    "for index in range(3):\n",
    "    data = test_samples[index]\n",
    "    data = data_processor.preprocess(data, batched=False)\n",
    "    # Input x\n",
    "    x = data['x']\n",
    "    # Ground-truth\n",
    "    y = data['y']\n",
    "    # Model prediction\n",
    "    out = model(x.unsqueeze(0))\n",
    "\n",
    "    ax = fig.add_subplot(3, 3, index*3 + 1)\n",
    "    ax.imshow(x[0], cmap='gray')\n",
    "    if index == 0: \n",
    "        ax.set_title('Input x')\n",
    "    plt.xticks([], [])\n",
    "    plt.yticks([], [])\n",
    "\n",
    "    ax = fig.add_subplot(3, 3, index*3 + 2)\n",
    "    ax.imshow(y.squeeze())\n",
    "    if index == 0: \n",
    "        ax.set_title('Ground-truth y')\n",
    "    plt.xticks([], [])\n",
    "    plt.yticks([], [])\n",
    "\n",
    "    ax = fig.add_subplot(3, 3, index*3 + 3)\n",
    "    ax.imshow(out.squeeze().detach().numpy())\n",
    "    if index == 0: \n",
    "        ax.set_title('Model prediction')\n",
    "    plt.xticks([], [])\n",
    "    plt.yticks([], [])\n",
    "\n",
    "fig.suptitle('Inputs, ground-truth output and prediction (16x16).', y=0.98)\n",
    "plt.tight_layout()\n",
    "plt.show()"
   ]
  },
  {
   "cell_type": "markdown",
   "metadata": {},
   "source": [
    "Zero-shot super-evaluation\n",
    "---------------------------\n",
    "In addition to training and making predictions on the same input size, \n",
    "the FNO's invariance to the discretization of input data means we \n",
    "can natively make predictions on higher-resolution inputs and get higher-resolution outputs.\n",
    "\n"
   ]
  },
  {
   "cell_type": "code",
   "execution_count": 103,
   "metadata": {
    "collapsed": false
   },
   "outputs": [
    {
     "data": {
      "image/png": "[encoded data removed]",
      "text/plain": [
       "<Figure size 700x700 with 9 Axes>"
      ]
     },
     "metadata": {},
     "output_type": "display_data"
    }
   ],
   "source": [
    "test_samples = test_loaders[32].dataset\n",
    "\n",
    "fig = plt.figure(figsize=(7, 7))\n",
    "for index in range(3):\n",
    "    data = test_samples[index]\n",
    "    data = data_processor.preprocess(data, batched=False)\n",
    "    # Input x\n",
    "    x = data['x']\n",
    "    # Ground-truth\n",
    "    y = data['y']\n",
    "    # Model prediction\n",
    "    out = model(x.unsqueeze(0))\n",
    "\n",
    "    ax = fig.add_subplot(3, 3, index*3 + 1)\n",
    "    ax.imshow(x[0], cmap='gray')\n",
    "    if index == 0: \n",
    "        ax.set_title('Input x')\n",
    "    plt.xticks([], [])\n",
    "    plt.yticks([], [])\n",
    "\n",
    "    ax = fig.add_subplot(3, 3, index*3 + 2)\n",
    "    ax.imshow(y.squeeze())\n",
    "    if index == 0: \n",
    "        ax.set_title('Ground-truth y')\n",
    "    plt.xticks([], [])\n",
    "    plt.yticks([], [])\n",
    "\n",
    "    ax = fig.add_subplot(3, 3, index*3 + 3)\n",
    "    ax.imshow(out.squeeze().detach().numpy())\n",
    "    if index == 0: \n",
    "        ax.set_title('Model prediction')\n",
    "    plt.xticks([], [])\n",
    "    plt.yticks([], [])\n",
    "\n",
    "fig.suptitle('Inputs, ground-truth output and prediction (32x32).', y=0.98)\n",
    "plt.tight_layout()\n",
    "plt.show()"
   ]
  },
  {
   "cell_type": "markdown",
   "metadata": {},
   "source": [
    "We only trained the model on data at a resolution of 16x16, and with no modifications \n",
    "or special prompting, we were able to perform inference on higher-resolution input data \n",
    "and get higher-resolution predictions! In practice, we often want to evaluate neural operators\n",
    "at multiple resolutions to track a model's zero-shot super-evaluation performance throughout \n",
    "training. That's why many of our datasets, including the small Darcy-flow we showcased,\n",
    "are parameterized with a list of `test_resolutions` to choose from. \n",
    "\n",
    "However, as you can see, these predictions are noisier than we would expect for a model evaluated \n",
    "at the same resolution at which it was trained. Leveraging the FNO's discretization-invariance, there\n",
    "are other ways to scale the outputs of the FNO to train a true super-resolution capability. \n"
   ]
  }
 ],
 "metadata": {
  "kernelspec": {
   "display_name": ".venv",
   "language": "python",
   "name": "python3"
  },
  "language_info": {
   "codemirror_mode": {
    "name": "ipython",
    "version": 3
   },
   "file_extension": ".py",
   "mimetype": "text/x-python",
   "name": "python",
   "nbconvert_exporter": "python",
   "pygments_lexer": "ipython3",
   "version": "3.10.4"
  }
 },
 "nbformat": 4,
 "nbformat_minor": 0
}
