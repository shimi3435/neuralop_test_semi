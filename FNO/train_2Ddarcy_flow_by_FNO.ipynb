{
 "cells": [
  {
   "cell_type": "markdown",
   "metadata": {},
   "source": [
    "\n",
    "# FNOを用いた2次元Darcy-Flowの学習"
   ]
  },
  {
   "cell_type": "markdown",
   "metadata": {},
   "source": [
    "#### 必要なパッケージのインポート"
   ]
  },
  {
   "cell_type": "code",
   "execution_count": 1,
   "metadata": {
    "collapsed": false
   },
   "outputs": [],
   "source": [
    "import torch\n",
    "import matplotlib.pyplot as plt\n",
    "import sys\n",
    "import datetime\n",
    "import os\n",
    "from io import StringIO\n",
    "\n",
    "from neuralop.models import FNO\n",
    "from neuralop import Trainer\n",
    "from neuralop.training import AdamW\n",
    "from neuralop.utils import count_model_params\n",
    "from neuralop import LpLoss, H1Loss\n",
    "\n",
    "import logging\n",
    "from pathlib import Path\n",
    "from typing import Union, List\n",
    "\n",
    "from torch.utils.data import DataLoader\n",
    "\n",
    "from neuralop.data.datasets.pt_dataset import PTDataset\n",
    "from neuralop.data.datasets.web_utils import download_from_zenodo_record\n",
    "\n",
    "from neuralop.utils import get_project_root"
   ]
  },
  {
   "cell_type": "markdown",
   "metadata": {},
   "source": [
    "#### wandbを使ってみる"
   ]
  },
  {
   "cell_type": "code",
   "execution_count": 2,
   "metadata": {},
   "outputs": [
    {
     "name": "stderr",
     "output_type": "stream",
     "text": [
      "\u001b[34m\u001b[1mwandb\u001b[0m: Currently logged in as: \u001b[33mt-shimizu\u001b[0m (\u001b[33mt-shimizu-kobe-university\u001b[0m). Use \u001b[1m`wandb login --relogin`\u001b[0m to force relogin\n",
      "\u001b[34m\u001b[1mwandb\u001b[0m: Using wandb-core as the SDK backend.  Please refer to https://wandb.me/wandb-core for more information.\n"
     ]
    },
    {
     "data": {
      "text/html": [
       "Tracking run with wandb version 0.19.4"
      ],
      "text/plain": [
       "<IPython.core.display.HTML object>"
      ]
     },
     "metadata": {},
     "output_type": "display_data"
    },
    {
     "data": {
      "text/html": [
       "Run data is saved locally in <code>/home/shimi3435/workspace/python/neuralop_test_semi/FNO/wandb/run-20250129_131314-42q5ev6g</code>"
      ],
      "text/plain": [
       "<IPython.core.display.HTML object>"
      ]
     },
     "metadata": {},
     "output_type": "display_data"
    },
    {
     "data": {
      "text/html": [
       "Syncing run <strong><a href='https://wandb.ai/t-shimizu-kobe-university/neuralop_test/runs/42q5ev6g' target=\"_blank\">decent-totem-4</a></strong> to <a href='https://wandb.ai/t-shimizu-kobe-university/neuralop_test' target=\"_blank\">Weights & Biases</a> (<a href='https://wandb.me/developer-guide' target=\"_blank\">docs</a>)<br>"
      ],
      "text/plain": [
       "<IPython.core.display.HTML object>"
      ]
     },
     "metadata": {},
     "output_type": "display_data"
    },
    {
     "data": {
      "text/html": [
       " View project at <a href='https://wandb.ai/t-shimizu-kobe-university/neuralop_test' target=\"_blank\">https://wandb.ai/t-shimizu-kobe-university/neuralop_test</a>"
      ],
      "text/plain": [
       "<IPython.core.display.HTML object>"
      ]
     },
     "metadata": {},
     "output_type": "display_data"
    },
    {
     "data": {
      "text/html": [
       " View run at <a href='https://wandb.ai/t-shimizu-kobe-university/neuralop_test/runs/42q5ev6g' target=\"_blank\">https://wandb.ai/t-shimizu-kobe-university/neuralop_test/runs/42q5ev6g</a>"
      ],
      "text/plain": [
       "<IPython.core.display.HTML object>"
      ]
     },
     "metadata": {},
     "output_type": "display_data"
    },
    {
     "data": {
      "text/html": [
       "<button onClick=\"this.nextSibling.style.display='block';this.style.display='none';\">Display W&B run</button><iframe src='https://wandb.ai/t-shimizu-kobe-university/neuralop_test/runs/42q5ev6g?jupyter=true' style='border:none;width:100%;height:420px;display:none;'></iframe>"
      ],
      "text/plain": [
       "<wandb.sdk.wandb_run.Run at 0x7fefe6322560>"
      ]
     },
     "execution_count": 2,
     "metadata": {},
     "output_type": "execute_result"
    }
   ],
   "source": [
    "import wandb\n",
    "\n",
    "# パラメータの設定\n",
    "config = {\n",
    "    \"device\": \"cpu\",\n",
    "    \"N_train\": 100,\n",
    "    \"batch_size\": 32,\n",
    "    \"train_resolution\": 32,\n",
    "    \"test_resolutions\": [16, 32, 64],\n",
    "    \"N_tests\": [50, 50, 50],\n",
    "    \"test_batch_sizes\": [32, 32, 32],\n",
    "    \"download\": True,\n",
    "    \n",
    "    \"N_modes\": (32, 32),\n",
    "    \"in_channels\": 1,\n",
    "    \"out_channels\": 1,\n",
    "    \"hidden_channels\": 32,\n",
    "    \"projection_channel_ratio\": 2,\n",
    "\n",
    "    \"learning_rate\": 8e-3,\n",
    "    \"weight_decay\": 1e-4,\n",
    "    \"T_max\": 30,\n",
    "\n",
    "    \"N_epochs\": 20,\n",
    "    \"wandb_log\": True,\n",
    "    \"log_output\": True,\n",
    "    \"eval_interval\": 1,\n",
    "    \"use_distributed\": False,\n",
    "    \"verbose\": True,\n",
    "    \"regularizer\": False,\n",
    "}\n",
    "\n",
    "# start a new wandb run to track this script\n",
    "wandb.init(\n",
    "    # set the wandb project where this run will be logged\n",
    "    project=\"neuralop_test\",\n",
    "    config=config\n",
    ")"
   ]
  },
  {
   "cell_type": "markdown",
   "metadata": {},
   "source": [
    "#### コード内で使用するパラメータまとめ"
   ]
  },
  {
   "cell_type": "markdown",
   "metadata": {},
   "source": [
    "##### データの読み込み関係"
   ]
  },
  {
   "cell_type": "code",
   "execution_count": 3,
   "metadata": {},
   "outputs": [],
   "source": [
    "device = wandb.config[\"device\"]\n",
    "N_train = wandb.config[\"N_train\"]\n",
    "batch_size = wandb.config[\"batch_size\"]\n",
    "train_resolution = wandb.config[\"train_resolution\"]\n",
    "test_resolutions = wandb.config[\"test_resolutions\"]\n",
    "N_tests = wandb.config[\"N_tests\"]\n",
    "test_batch_sizes = wandb.config[\"test_batch_sizes\"]\n",
    "\n",
    "download = wandb.config[\"download\"]"
   ]
  },
  {
   "cell_type": "markdown",
   "metadata": {},
   "source": [
    "##### FNOモデル関係"
   ]
  },
  {
   "cell_type": "code",
   "execution_count": 4,
   "metadata": {},
   "outputs": [],
   "source": [
    "N_modes = wandb.config[\"N_modes\"]\n",
    "in_channels = wandb.config[\"in_channels\"]\n",
    "out_channels = wandb.config[\"out_channels\"]\n",
    "hidden_channels = wandb.config[\"hidden_channels\"]\n",
    "projection_channel_ratio = wandb.config[\"projection_channel_ratio\"]"
   ]
  },
  {
   "cell_type": "markdown",
   "metadata": {},
   "source": [
    "##### optimizer関係"
   ]
  },
  {
   "cell_type": "code",
   "execution_count": 5,
   "metadata": {},
   "outputs": [],
   "source": [
    "learning_rate = wandb.config[\"learning_rate\"]\n",
    "weight_decay = wandb.config[\"weight_decay\"]\n",
    "T_max = wandb.config[\"T_max\"]"
   ]
  },
  {
   "cell_type": "markdown",
   "metadata": {},
   "source": [
    "##### トレーナー関係"
   ]
  },
  {
   "cell_type": "code",
   "execution_count": 6,
   "metadata": {},
   "outputs": [],
   "source": [
    "N_epochs = wandb.config[\"N_epochs\"]\n",
    "wandb_log = wandb.config[\"wandb_log\"]\n",
    "log_output = wandb.config[\"log_output\"]\n",
    "eval_interval = wandb.config[\"eval_interval\"]\n",
    "use_distributed = wandb.config[\"use_distributed\"]\n",
    "verbose = wandb.config[\"verbose\"]\n",
    "regularizer = wandb.config[\"regularizer\"]"
   ]
  },
  {
   "cell_type": "markdown",
   "metadata": {},
   "source": [
    "##### ファイル出力関係"
   ]
  },
  {
   "cell_type": "code",
   "execution_count": 7,
   "metadata": {},
   "outputs": [],
   "source": [
    "dt_now = datetime.datetime.now()\n",
    "output_dir = \"../results/FNO/\" + dt_now.strftime(\"%Y-%m-%d_%H:%M:%S\") + \"/\"\n",
    "\n",
    "os.makedirs(output_dir, exist_ok=True)\n",
    "\n",
    "# 標準出力をキャプチャする関数\n",
    "def capture_output(func, *args, **kwargs):\n",
    "    # 元の標準出力を保存\n",
    "    original_stdout = sys.stdout\n",
    "    sys.stdout = StringIO()  # 標準出力をStringIOに切り替え\n",
    "\n",
    "    try:\n",
    "        func(*args, **kwargs)  # 渡された関数を実行\n",
    "        output = sys.stdout.getvalue()  # キャプチャされた出力を取得\n",
    "    finally:\n",
    "        sys.stdout = original_stdout  # 標準出力を元に戻す\n",
    "\n",
    "    return output"
   ]
  },
  {
   "cell_type": "markdown",
   "metadata": {},
   "source": [
    "#### 使用するデータの読み込み（load_darcy_flow_smallを参考に、load_darcy_flow関数に変更して使用できる解像度の幅を増やした）"
   ]
  },
  {
   "cell_type": "code",
   "execution_count": 8,
   "metadata": {},
   "outputs": [],
   "source": [
    "class DarcyDataset(PTDataset):\n",
    "    \"\"\"\n",
    "    DarcyDataset stores data generated according to Darcy's Law.\n",
    "    Input is a coefficient function and outputs describe flow. \n",
    "\n",
    "    Data source: https://zenodo.org/records/12784353\n",
    "\n",
    "    Attributes\n",
    "    ----------\n",
    "    train_db: torch.utils.data.Dataset of training examples\n",
    "    test_db:  \"\"                       of test examples\n",
    "    data_processor: neuralop.data.transforms.DataProcessor to process data examples\n",
    "        optional, default is None\n",
    "    \"\"\"\n",
    "    def __init__(self,\n",
    "                 root_dir: Union[Path, str],\n",
    "                 n_train: int,\n",
    "                 n_tests: List[int],\n",
    "                 batch_size: int,\n",
    "                 test_batch_sizes: List[int],\n",
    "                 train_resolution: int,\n",
    "                 test_resolutions: List[int],\n",
    "                 encode_input: bool=False, \n",
    "                 encode_output: bool=True, \n",
    "                 encoding=\"channel-wise\",\n",
    "                 channel_dim=1,\n",
    "                 subsampling_rate=None,\n",
    "                 download: bool=True):\n",
    "\n",
    "        \"\"\"DarcyDataset\n",
    "\n",
    "        Parameters\n",
    "        ----------\n",
    "        root_dir : Union[Path, str]\n",
    "            root at which to download data files\n",
    "        dataset_name : str\n",
    "            prefix of pt data files to store/access\n",
    "        n_train : int\n",
    "            number of train instances\n",
    "        n_tests : List[int]\n",
    "            number of test instances per test dataset\n",
    "        batch_size : int\n",
    "            batch size of training set\n",
    "        test_batch_sizes : List[int]\n",
    "            batch size of test sets\n",
    "        train_resolution : int\n",
    "            resolution of data for training set\n",
    "        test_resolutions : List[int], optional\n",
    "            resolution of data for testing sets, by default [16,32]\n",
    "        encode_input : bool, optional\n",
    "            whether to normalize inputs in provided DataProcessor,\n",
    "            by default False\n",
    "        encode_output : bool, optional\n",
    "            whether to normalize outputs in provided DataProcessor,\n",
    "            by default True\n",
    "        encoding : str, optional\n",
    "            parameter for input/output normalization. Whether\n",
    "            to normalize by channel (\"channel-wise\") or \n",
    "            by pixel (\"pixel-wise\"), default \"channel-wise\"\n",
    "        input_subsampling_rate : int or List[int], optional\n",
    "            rate at which to subsample each input dimension, by default None\n",
    "        output_subsampling_rate : int or List[int], optional\n",
    "            rate at which to subsample each output dimension, by default None\n",
    "        channel_dim : int, optional\n",
    "            dimension of saved tensors to index data channels, by default 1\n",
    "        \"\"\"\n",
    "\n",
    "        # convert root dir to Path\n",
    "        if isinstance(root_dir, str):\n",
    "            root_dir = Path(root_dir)\n",
    "        if not root_dir.exists():\n",
    "            root_dir.mkdir(parents=True)\n",
    "\n",
    "        # Zenodo record ID for Darcy-Flow dataset\n",
    "        zenodo_record_id = \"12784353\"\n",
    "\n",
    "        # List of resolutions needed for dataset object\n",
    "        resolutions = set(test_resolutions + [train_resolution])\n",
    "\n",
    "        # We store data at these resolutions on the Zenodo archive\n",
    "        available_resolutions = [16, 32, 64, 128, 421]\n",
    "        for res in resolutions:\n",
    "            assert res in available_resolutions, f\"Error: resolution {res} not available\"\n",
    "\n",
    "        # download darcy data from zenodo archive if passed\n",
    "        if download:\n",
    "            files_to_download = []\n",
    "            already_downloaded_files = [x for x in root_dir.iterdir()]\n",
    "            for res in resolutions:\n",
    "                if f\"darcy_train_{res}.pt\" not in already_downloaded_files or \\\n",
    "                f\"darcy_test_{res}.pt\" not in already_downloaded_files:    \n",
    "                    files_to_download.append(f\"darcy_{res}.tgz\")\n",
    "            download_from_zenodo_record(record_id=zenodo_record_id,\n",
    "                                        root=root_dir,\n",
    "                                        files_to_download=files_to_download)\n",
    "            \n",
    "        # once downloaded/if files already exist, init PTDataset\n",
    "        super().__init__(root_dir=root_dir,\n",
    "                       dataset_name=\"darcy\",\n",
    "                       n_train=n_train,\n",
    "                       n_tests=n_tests,\n",
    "                       batch_size=batch_size,\n",
    "                       test_batch_sizes=test_batch_sizes,\n",
    "                       train_resolution=train_resolution,\n",
    "                       test_resolutions=test_resolutions,\n",
    "                       encode_input=encode_input,\n",
    "                       encode_output=encode_output,\n",
    "                       encoding=encoding,\n",
    "                       channel_dim=channel_dim,\n",
    "                       input_subsampling_rate=subsampling_rate,\n",
    "                       output_subsampling_rate=subsampling_rate)\n",
    "        \n",
    "# legacy Small Darcy Flow example\n",
    "example_data_root = get_project_root() / \"neuralop/data/datasets/data\"\n",
    "\n",
    "def load_darcy_flow(n_train,\n",
    "    n_tests,\n",
    "    batch_size,\n",
    "    test_batch_sizes,\n",
    "    data_root = example_data_root,\n",
    "    test_resolutions=test_resolutions,\n",
    "    encode_input=False,\n",
    "    encode_output=True,\n",
    "    encoding=\"channel-wise\",\n",
    "    channel_dim=1,):\n",
    "\n",
    "    dataset = DarcyDataset(root_dir = data_root,\n",
    "                           n_train=n_train,\n",
    "                           n_tests=n_tests,\n",
    "                           batch_size=batch_size,\n",
    "                           test_batch_sizes=test_batch_sizes,\n",
    "                           train_resolution=train_resolution,\n",
    "                           test_resolutions=test_resolutions,\n",
    "                           encode_input=encode_input,\n",
    "                           encode_output=encode_output,\n",
    "                           channel_dim=channel_dim,\n",
    "                           encoding=encoding,\n",
    "                           download=True)\n",
    "    \n",
    "    # return dataloaders for backwards compat\n",
    "    train_loader = DataLoader(dataset.train_db,\n",
    "                              batch_size=batch_size,\n",
    "                              num_workers=0,\n",
    "                              pin_memory=True,\n",
    "                              persistent_workers=False,)\n",
    "    \n",
    "    test_loaders = {}\n",
    "    for res,test_bsize in zip(test_resolutions, test_batch_sizes):\n",
    "        test_loaders[res] = DataLoader(dataset.test_dbs[res],\n",
    "                                       batch_size=test_bsize,\n",
    "                                       shuffle=False,\n",
    "                                       num_workers=0,\n",
    "                                       pin_memory=True,\n",
    "                                       persistent_workers=False,)\n",
    "    \n",
    "    return train_loader, test_loaders, dataset.data_processor"
   ]
  },
  {
   "cell_type": "code",
   "execution_count": 9,
   "metadata": {
    "collapsed": false
   },
   "outputs": [
    {
     "name": "stdout",
     "output_type": "stream",
     "text": [
      "Loading test db for resolution 16 with 50 samples \n",
      "Loading test db for resolution 32 with 50 samples \n",
      "Loading test db for resolution 64 with 50 samples \n"
     ]
    },
    {
     "name": "stderr",
     "output_type": "stream",
     "text": [
      "/home/shimi3435/workspace/python/neuralop_test_semi/neuraloperator/neuralop/data/datasets/pt_dataset.py:99: FutureWarning: You are using `torch.load` with `weights_only=False` (the current default value), which uses the default pickle module implicitly. It is possible to construct malicious pickle data which will execute arbitrary code during unpickling (See https://github.com/pytorch/pytorch/blob/main/SECURITY.md#untrusted-models for more details). In a future release, the default value for `weights_only` will be flipped to `True`. This limits the functions that could be executed during unpickling. Arbitrary objects will no longer be allowed to be loaded via this mode unless they are explicitly allowlisted by the user via `torch.serialization.add_safe_globals`. We recommend you start setting `weights_only=True` for any use case where you don't have full control of the loaded file. Please open an issue on GitHub for any issues related to this experimental feature.\n",
      "  data = torch.load(\n",
      "/home/shimi3435/workspace/python/neuralop_test_semi/neuraloperator/neuralop/data/datasets/pt_dataset.py:189: FutureWarning: You are using `torch.load` with `weights_only=False` (the current default value), which uses the default pickle module implicitly. It is possible to construct malicious pickle data which will execute arbitrary code during unpickling (See https://github.com/pytorch/pytorch/blob/main/SECURITY.md#untrusted-models for more details). In a future release, the default value for `weights_only` will be flipped to `True`. This limits the functions that could be executed during unpickling. Arbitrary objects will no longer be allowed to be loaded via this mode unless they are explicitly allowlisted by the user via `torch.serialization.add_safe_globals`. We recommend you start setting `weights_only=True` for any use case where you don't have full control of the loaded file. Please open an issue on GitHub for any issues related to this experimental feature.\n",
      "  data = torch.load(Path(root_dir).joinpath(f\"{dataset_name}_test_{res}.pt\").as_posix())\n"
     ]
    }
   ],
   "source": [
    "train_loader, test_loaders, data_processor = load_darcy_flow(\n",
    "        n_train=N_train, batch_size=batch_size, \n",
    "        test_resolutions=test_resolutions, n_tests=N_tests,\n",
    "        test_batch_sizes=test_batch_sizes,\n",
    ")\n",
    "data_processor = data_processor.to(device)"
   ]
  },
  {
   "cell_type": "markdown",
   "metadata": {},
   "source": [
    "#### FNOモデルの作成"
   ]
  },
  {
   "cell_type": "code",
   "execution_count": 10,
   "metadata": {
    "collapsed": false
   },
   "outputs": [
    {
     "name": "stdout",
     "output_type": "stream",
     "text": [
      "\n",
      "Our model has 4469601 parameters.\n"
     ]
    }
   ],
   "source": [
    "model = FNO(n_modes=N_modes,\n",
    "             in_channels=in_channels, \n",
    "             out_channels=out_channels,\n",
    "             hidden_channels=hidden_channels, \n",
    "             projection_channel_ratio=projection_channel_ratio)\n",
    "model = model.to(device)\n",
    "\n",
    "n_params = count_model_params(model)\n",
    "print(f'\\nOur model has {n_params} parameters.')\n",
    "sys.stdout.flush()"
   ]
  },
  {
   "cell_type": "markdown",
   "metadata": {},
   "source": [
    "#### optimizerの作成\n",
    "\n"
   ]
  },
  {
   "cell_type": "code",
   "execution_count": 11,
   "metadata": {
    "collapsed": false
   },
   "outputs": [],
   "source": [
    "optimizer = AdamW(model.parameters(), lr=learning_rate, weight_decay=weight_decay)\n",
    "scheduler = torch.optim.lr_scheduler.CosineAnnealingLR(optimizer, T_max=T_max)"
   ]
  },
  {
   "cell_type": "markdown",
   "metadata": {},
   "source": [
    "#### 使用するロスの設定"
   ]
  },
  {
   "cell_type": "code",
   "execution_count": 12,
   "metadata": {
    "collapsed": false
   },
   "outputs": [],
   "source": [
    "l2loss = LpLoss(d=2, p=2)\n",
    "h1loss = H1Loss(d=2)\n",
    "\n",
    "train_loss = h1loss\n",
    "eval_losses={'h1': h1loss, 'l2': l2loss}"
   ]
  },
  {
   "cell_type": "markdown",
   "metadata": {},
   "source": [
    "#### モデル、optimizer、scheduler、ロスのログ出力"
   ]
  },
  {
   "cell_type": "code",
   "execution_count": 13,
   "metadata": {
    "collapsed": false
   },
   "outputs": [
    {
     "name": "stdout",
     "output_type": "stream",
     "text": [
      "\n",
      "### MODEL ###\n",
      " FNO(\n",
      "  (positional_embedding): GridEmbeddingND()\n",
      "  (fno_blocks): FNOBlocks(\n",
      "    (convs): ModuleList(\n",
      "      (0-3): 4 x SpectralConv(\n",
      "        (weight): DenseTensor(shape=torch.Size([32, 32, 32, 17]), rank=None)\n",
      "      )\n",
      "    )\n",
      "    (fno_skips): ModuleList(\n",
      "      (0-3): 4 x Flattened1dConv(\n",
      "        (conv): Conv1d(32, 32, kernel_size=(1,), stride=(1,), bias=False)\n",
      "      )\n",
      "    )\n",
      "    (channel_mlp): ModuleList(\n",
      "      (0-3): 4 x ChannelMLP(\n",
      "        (fcs): ModuleList(\n",
      "          (0): Conv1d(32, 16, kernel_size=(1,), stride=(1,))\n",
      "          (1): Conv1d(16, 32, kernel_size=(1,), stride=(1,))\n",
      "        )\n",
      "      )\n",
      "    )\n",
      "    (channel_mlp_skips): ModuleList(\n",
      "      (0-3): 4 x SoftGating()\n",
      "    )\n",
      "  )\n",
      "  (lifting): ChannelMLP(\n",
      "    (fcs): ModuleList(\n",
      "      (0): Conv1d(3, 64, kernel_size=(1,), stride=(1,))\n",
      "      (1): Conv1d(64, 32, kernel_size=(1,), stride=(1,))\n",
      "    )\n",
      "  )\n",
      "  (projection): ChannelMLP(\n",
      "    (fcs): ModuleList(\n",
      "      (0): Conv1d(32, 64, kernel_size=(1,), stride=(1,))\n",
      "      (1): Conv1d(64, 1, kernel_size=(1,), stride=(1,))\n",
      "    )\n",
      "  )\n",
      ")\n",
      "\n",
      "### OPTIMIZER ###\n",
      " AdamW (\n",
      "Parameter Group 0\n",
      "    betas: (0.9, 0.999)\n",
      "    correct_bias: True\n",
      "    eps: 1e-06\n",
      "    initial_lr: 0.008\n",
      "    lr: 0.008\n",
      "    weight_decay: 0.0001\n",
      ")\n",
      "\n",
      "### SCHEDULER ###\n",
      " <torch.optim.lr_scheduler.CosineAnnealingLR object at 0x7ff12c7a6b90>\n",
      "\n",
      "### LOSSES ###\n",
      "\n",
      " * Train: <neuralop.losses.data_losses.H1Loss object at 0x7ff12c7a76a0>\n",
      "\n",
      " * Test: {'h1': <neuralop.losses.data_losses.H1Loss object at 0x7ff12c7a76a0>, 'l2': <neuralop.losses.data_losses.LpLoss object at 0x7fefcf057070>}\n"
     ]
    }
   ],
   "source": [
    "print('\\n### MODEL ###\\n', model)\n",
    "print('\\n### OPTIMIZER ###\\n', optimizer)\n",
    "print('\\n### SCHEDULER ###\\n', scheduler)\n",
    "print('\\n### LOSSES ###')\n",
    "print(f'\\n * Train: {train_loss}')\n",
    "print(f'\\n * Test: {eval_losses}')\n",
    "sys.stdout.flush()"
   ]
  },
  {
   "cell_type": "markdown",
   "metadata": {},
   "source": [
    "#### トレーナーの作成\n"
   ]
  },
  {
   "cell_type": "code",
   "execution_count": 14,
   "metadata": {
    "collapsed": false
   },
   "outputs": [],
   "source": [
    "trainer = Trainer(model=model, n_epochs=N_epochs,\n",
    "                  device=device,\n",
    "                  data_processor=data_processor,\n",
    "                  wandb_log=wandb_log,\n",
    "                  log_output=log_output,\n",
    "                  eval_interval=eval_interval,\n",
    "                  use_distributed=use_distributed,\n",
    "                  verbose=verbose)"
   ]
  },
  {
   "cell_type": "markdown",
   "metadata": {},
   "source": [
    "#### 学習\n"
   ]
  },
  {
   "cell_type": "code",
   "execution_count": 15,
   "metadata": {},
   "outputs": [],
   "source": [
    "#trainer.train(train_loader=train_loader,\n",
    "#              test_loaders=test_loaders,\n",
    "#              optimizer=optimizer,\n",
    "#              scheduler=scheduler, \n",
    "#              regularizer=regularizer, \n",
    "#              training_loss=train_loss,\n",
    "#              eval_losses=eval_losses)"
   ]
  },
  {
   "cell_type": "code",
   "execution_count": 16,
   "metadata": {
    "collapsed": false
   },
   "outputs": [
    {
     "name": "stdout",
     "output_type": "stream",
     "text": [
      "Training on 100 samples\n",
      "Testing on [50, 50, 50] samples         on resolutions [16, 32, 64].\n",
      "Raw outputs of shape torch.Size([32, 1, 32, 32])\n",
      "[0] time=1.06, avg_loss=0.9955, train_err=24.8873\n",
      "Eval: 16_h1=0.9226, 16_l2=0.5986, 32_h1=0.9361, 32_l2=0.5909, 64_h1=0.9696, 64_l2=0.5895\n",
      "[1] time=0.63, avg_loss=0.9481, train_err=23.7014\n",
      "Eval: 16_h1=0.8970, 16_l2=0.5936, 32_h1=0.9004, 32_l2=0.5879, 64_h1=0.9167, 64_l2=0.5879\n",
      "[2] time=0.65, avg_loss=0.8466, train_err=21.1640\n",
      "Eval: 16_h1=1.4219, 16_l2=1.3550, 32_h1=1.4315, 32_l2=1.3797, 64_h1=1.5484, 64_l2=1.4020\n",
      "[3] time=0.71, avg_loss=0.9267, train_err=23.1683\n",
      "Eval: 16_h1=0.8361, 16_l2=0.5511, 32_h1=0.8333, 32_l2=0.5432, 64_h1=0.8401, 64_l2=0.5425\n",
      "[4] time=0.65, avg_loss=0.8639, train_err=21.5967\n",
      "Eval: 16_h1=0.8684, 16_l2=0.5579, 32_h1=0.8623, 32_l2=0.5487, 64_h1=0.8667, 64_l2=0.5471\n",
      "[5] time=0.70, avg_loss=0.8436, train_err=21.0910\n",
      "Eval: 16_h1=0.7504, 16_l2=0.4680, 32_h1=0.7434, 32_l2=0.4511, 64_h1=0.7831, 64_l2=0.4468\n",
      "[6] time=0.64, avg_loss=0.7128, train_err=17.8204\n",
      "Eval: 16_h1=0.6189, 16_l2=0.5227, 32_h1=0.6479, 32_l2=0.5157, 64_h1=0.7211, 64_l2=0.5149\n",
      "[7] time=0.63, avg_loss=0.6162, train_err=15.4047\n",
      "Eval: 16_h1=0.5576, 16_l2=0.6321, 32_h1=0.5668, 32_l2=0.6302, 64_h1=0.7177, 64_l2=0.6326\n",
      "[8] time=0.66, avg_loss=0.5202, train_err=13.0041\n",
      "Eval: 16_h1=0.5175, 16_l2=0.5480, 32_h1=0.5074, 32_l2=0.5413, 64_h1=0.6030, 64_l2=0.5403\n",
      "[9] time=0.65, avg_loss=0.4840, train_err=12.1012\n",
      "Eval: 16_h1=0.4914, 16_l2=0.4588, 32_h1=0.4646, 32_l2=0.4466, 64_h1=0.5784, 64_l2=0.4450\n",
      "[10] time=0.64, avg_loss=0.4365, train_err=10.9131\n",
      "Eval: 16_h1=0.4676, 16_l2=0.3791, 32_h1=0.4457, 32_l2=0.3667, 64_h1=0.5916, 64_l2=0.3681\n",
      "[11] time=0.68, avg_loss=0.4121, train_err=10.3026\n",
      "Eval: 16_h1=0.4451, 16_l2=0.3322, 32_h1=0.4238, 32_l2=0.3148, 64_h1=0.5636, 64_l2=0.3150\n",
      "[12] time=0.65, avg_loss=0.3851, train_err=9.6286\n",
      "Eval: 16_h1=0.4250, 16_l2=0.2862, 32_h1=0.3979, 32_l2=0.2670, 64_h1=0.5339, 64_l2=0.2699\n",
      "[13] time=0.64, avg_loss=0.3592, train_err=8.9800\n",
      "Eval: 16_h1=0.4253, 16_l2=0.2776, 32_h1=0.3803, 32_l2=0.2493, 64_h1=0.5233, 64_l2=0.2512\n",
      "[14] time=0.65, avg_loss=0.3381, train_err=8.4530\n",
      "Eval: 16_h1=0.4020, 16_l2=0.2653, 32_h1=0.3642, 32_l2=0.2419, 64_h1=0.5100, 64_l2=0.2471\n",
      "[15] time=0.70, avg_loss=0.3197, train_err=7.9929\n",
      "Eval: 16_h1=0.3964, 16_l2=0.2641, 32_h1=0.3518, 32_l2=0.2385, 64_h1=0.4919, 64_l2=0.2425\n",
      "[16] time=0.69, avg_loss=0.3067, train_err=7.6678\n",
      "Eval: 16_h1=0.3812, 16_l2=0.2572, 32_h1=0.3373, 32_l2=0.2340, 64_h1=0.4850, 64_l2=0.2406\n",
      "[17] time=0.64, avg_loss=0.2887, train_err=7.2169\n",
      "Eval: 16_h1=0.3844, 16_l2=0.2602, 32_h1=0.3288, 32_l2=0.2311, 64_h1=0.4814, 64_l2=0.2360\n",
      "[18] time=0.61, avg_loss=0.2771, train_err=6.9272\n",
      "Eval: 16_h1=0.3677, 16_l2=0.2462, 32_h1=0.3159, 32_l2=0.2204, 64_h1=0.4643, 64_l2=0.2268\n",
      "[19] time=0.59, avg_loss=0.2647, train_err=6.6187\n",
      "Eval: 16_h1=0.3639, 16_l2=0.2413, 32_h1=0.3080, 32_l2=0.2128, 64_h1=0.4596, 64_l2=0.2187\n",
      "\n"
     ]
    }
   ],
   "source": [
    "stdout = capture_output(lambda : trainer.train(train_loader=train_loader,\n",
    "              test_loaders=test_loaders,\n",
    "              optimizer=optimizer,\n",
    "              scheduler=scheduler, \n",
    "              regularizer=regularizer, \n",
    "              training_loss=train_loss,\n",
    "              eval_losses=eval_losses))\n",
    "\n",
    "print(stdout)\n",
    "\n",
    "with open(output_dir + 'stdout.txt', 'w') as f:\n",
    "    f.write(stdout)\n",
    "\n",
    "with open(output_dir + 'models.txt', 'w') as f:\n",
    "    f.write(f'\\nOur model has {n_params} parameters.\\n')\n",
    "    f.write('\\n\\n### MODEL ###\\n')\n",
    "    f.write(str(model))\n",
    "    f.write('\\n\\n### OPTIMIZER ###\\n')\n",
    "    f.write(str(optimizer))\n",
    "    f.write('\\n\\n### SCHEDULER ###\\n')\n",
    "    f.write(str(scheduler))\n",
    "    f.write('\\n\\n### LOSSES ###')\n",
    "    f.write(f'\\n\\n * Train: {train_loss}')\n",
    "    f.write(f'\\n\\n * Test: {eval_losses}')\n",
    "    \n",
    "with open(output_dir + 'params.txt', 'w') as f:\n",
    "    f.write(f'N_train: {N_train}\\n')\n",
    "    f.write(f'batch_size: {batch_size}\\n')\n",
    "    f.write(f'test_resolutions: {test_resolutions}\\n')\n",
    "    f.write(f'N_tests: {N_tests}\\n')\n",
    "    f.write(f'test_batch_sizes: {test_batch_sizes}\\n')\n",
    "    f.write(f'N_modes: {N_modes}\\n')\n",
    "    f.write(f'in_channels: {in_channels}\\n')\n",
    "    f.write(f'out_channels: {out_channels}\\n')\n",
    "    f.write(f'hidden_channels: {hidden_channels}\\n')\n",
    "    f.write(f'projection_channel_ratio: {projection_channel_ratio}\\n')\n",
    "    f.write(f'lerning_rate: {learning_rate}\\n')\n",
    "    f.write(f'weight_decay: {weight_decay}\\n')\n",
    "    f.write(f'T_max: {T_max}\\n')\n",
    "    f.write(f'N_epochs: {N_epochs}\\n')\n",
    "    f.write(f'wandb_log: {wandb_log}\\n')\n",
    "    f.write(f'eval_interval: {eval_interval}\\n')\n",
    "    f.write(f'use_distributed: {use_distributed}\\n')\n",
    "    f.write(f'verbose: {verbose}\\n')\n",
    "    f.write(f'regularizer: {regularizer}\\n')"
   ]
  },
  {
   "cell_type": "markdown",
   "metadata": {},
   "source": [
    "Visualizing predictions\n",
    "------------------------\n",
    "16×16"
   ]
  },
  {
   "cell_type": "code",
   "execution_count": 17,
   "metadata": {
    "collapsed": false
   },
   "outputs": [
    {
     "data": {
      "image/png": "[encoded data removed]",
      "text/plain": [
       "<Figure size 700x700 with 9 Axes>"
      ]
     },
     "metadata": {},
     "output_type": "display_data"
    }
   ],
   "source": [
    "test_samples = test_loaders[16].dataset\n",
    "\n",
    "fig = plt.figure(figsize=(7, 7))\n",
    "for index in range(3):\n",
    "    data = test_samples[index]\n",
    "    data = data_processor.preprocess(data, batched=False)\n",
    "    # Input x\n",
    "    x = data['x']\n",
    "    # Ground-truth\n",
    "    y = data['y']\n",
    "    # Model prediction\n",
    "    out = model(x.unsqueeze(0))\n",
    "\n",
    "    ax = fig.add_subplot(3, 3, index*3 + 1)\n",
    "    ax.imshow(x[0], cmap='gray')\n",
    "    if index == 0: \n",
    "        ax.set_title('Input x')\n",
    "    plt.xticks([], [])\n",
    "    plt.yticks([], [])\n",
    "\n",
    "    ax = fig.add_subplot(3, 3, index*3 + 2)\n",
    "    ax.imshow(y.squeeze())\n",
    "    if index == 0: \n",
    "        ax.set_title('Ground-truth y')\n",
    "    plt.xticks([], [])\n",
    "    plt.yticks([], [])\n",
    "\n",
    "    ax = fig.add_subplot(3, 3, index*3 + 3)\n",
    "    ax.imshow(out.squeeze().detach().numpy())\n",
    "    if index == 0: \n",
    "        ax.set_title('Model prediction')\n",
    "    plt.xticks([], [])\n",
    "    plt.yticks([], [])\n",
    "\n",
    "fig.suptitle('Inputs, ground-truth output and prediction (16x16).', y=0.98)\n",
    "plt.tight_layout()\n",
    "plt.show()"
   ]
  },
  {
   "cell_type": "markdown",
   "metadata": {},
   "source": [
    "32×32"
   ]
  },
  {
   "cell_type": "code",
   "execution_count": 18,
   "metadata": {
    "collapsed": false
   },
   "outputs": [
    {
     "data": {
      "image/png": "[encoded data removed]",
      "text/plain": [
       "<Figure size 700x700 with 9 Axes>"
      ]
     },
     "metadata": {},
     "output_type": "display_data"
    }
   ],
   "source": [
    "test_samples = test_loaders[32].dataset\n",
    "\n",
    "fig = plt.figure(figsize=(7, 7))\n",
    "for index in range(3):\n",
    "    data = test_samples[index]\n",
    "    data = data_processor.preprocess(data, batched=False)\n",
    "    # Input x\n",
    "    x = data['x']\n",
    "    # Ground-truth\n",
    "    y = data['y']\n",
    "    # Model prediction\n",
    "    out = model(x.unsqueeze(0))\n",
    "\n",
    "    ax = fig.add_subplot(3, 3, index*3 + 1)\n",
    "    ax.imshow(x[0], cmap='gray')\n",
    "    if index == 0: \n",
    "        ax.set_title('Input x')\n",
    "    plt.xticks([], [])\n",
    "    plt.yticks([], [])\n",
    "\n",
    "    ax = fig.add_subplot(3, 3, index*3 + 2)\n",
    "    ax.imshow(y.squeeze())\n",
    "    if index == 0: \n",
    "        ax.set_title('Ground-truth y')\n",
    "    plt.xticks([], [])\n",
    "    plt.yticks([], [])\n",
    "\n",
    "    ax = fig.add_subplot(3, 3, index*3 + 3)\n",
    "    ax.imshow(out.squeeze().detach().numpy())\n",
    "    if index == 0: \n",
    "        ax.set_title('Model prediction')\n",
    "    plt.xticks([], [])\n",
    "    plt.yticks([], [])\n",
    "\n",
    "fig.suptitle('Inputs, ground-truth output and prediction (32x32).', y=0.98)\n",
    "plt.tight_layout()\n",
    "plt.show()"
   ]
  },
  {
   "cell_type": "markdown",
   "metadata": {},
   "source": [
    "64×64"
   ]
  },
  {
   "cell_type": "code",
   "execution_count": 19,
   "metadata": {},
   "outputs": [
    {
     "data": {
      "image/png": "[encoded data removed]",
      "text/plain": [
       "<Figure size 700x700 with 9 Axes>"
      ]
     },
     "metadata": {},
     "output_type": "display_data"
    }
   ],
   "source": [
    "test_samples = test_loaders[64].dataset\n",
    "\n",
    "fig = plt.figure(figsize=(7, 7))\n",
    "for index in range(3):\n",
    "    data = test_samples[index]\n",
    "    data = data_processor.preprocess(data, batched=False)\n",
    "    # Input x\n",
    "    x = data['x']\n",
    "    # Ground-truth\n",
    "    y = data['y']\n",
    "    # Model prediction\n",
    "    out = model(x.unsqueeze(0))\n",
    "\n",
    "    ax = fig.add_subplot(3, 3, index*3 + 1)\n",
    "    ax.imshow(x[0], cmap='gray')\n",
    "    if index == 0: \n",
    "        ax.set_title('Input x')\n",
    "    plt.xticks([], [])\n",
    "    plt.yticks([], [])\n",
    "\n",
    "    ax = fig.add_subplot(3, 3, index*3 + 2)\n",
    "    ax.imshow(y.squeeze())\n",
    "    if index == 0: \n",
    "        ax.set_title('Ground-truth y')\n",
    "    plt.xticks([], [])\n",
    "    plt.yticks([], [])\n",
    "\n",
    "    ax = fig.add_subplot(3, 3, index*3 + 3)\n",
    "    ax.imshow(out.squeeze().detach().numpy())\n",
    "    if index == 0: \n",
    "        ax.set_title('Model prediction')\n",
    "    plt.xticks([], [])\n",
    "    plt.yticks([], [])\n",
    "\n",
    "fig.suptitle('Inputs, ground-truth output and prediction (64x64).', y=0.98)\n",
    "plt.tight_layout()\n",
    "plt.show()"
   ]
  },
  {
   "cell_type": "code",
   "execution_count": 20,
   "metadata": {},
   "outputs": [
    {
     "data": {
      "text/html": [],
      "text/plain": [
       "<IPython.core.display.HTML object>"
      ]
     },
     "metadata": {},
     "output_type": "display_data"
    },
    {
     "data": {
      "text/html": [
       "<br>    <style><br>        .wandb-row {<br>            display: flex;<br>            flex-direction: row;<br>            flex-wrap: wrap;<br>            justify-content: flex-start;<br>            width: 100%;<br>        }<br>        .wandb-col {<br>            display: flex;<br>            flex-direction: column;<br>            flex-basis: 100%;<br>            flex: 1;<br>            padding: 10px;<br>        }<br>    </style><br><div class=\"wandb-row\"><div class=\"wandb-col\"><h3>Run history:</h3><br/><table class=\"wandb\"><tr><td>16_h1</td><td>▅▅█▄▄▄▃▂▂▂▂▂▁▁▁▁▁▁▁▁</td></tr><tr><td>16_l2</td><td>▃▃█▃▃▂▃▃▃▂▂▂▁▁▁▁▁▁▁▁</td></tr><tr><td>32_h1</td><td>▅▅█▄▄▄▃▃▂▂▂▂▂▁▁▁▁▁▁▁</td></tr><tr><td>32_l2</td><td>▃▃█▃▃▂▃▄▃▂▂▂▁▁▁▁▁▁▁▁</td></tr><tr><td>64_h1</td><td>▄▄█▃▄▃▃▃▂▂▂▂▁▁▁▁▁▁▁▁</td></tr><tr><td>64_l2</td><td>▃▃█▃▃▂▃▃▃▂▂▂▁▁▁▁▁▁▁▁</td></tr><tr><td>avg_loss</td><td>██▇▇▇▇▅▄▃▃▃▂▂▂▂▂▁▁▁▁</td></tr><tr><td>lr</td><td>████▇▇▇▆▆▆▅▅▄▄▃▃▂▂▁▁</td></tr><tr><td>time</td><td>█▂▂▃▂▃▂▂▂▂▂▂▂▂▂▃▃▂▁▁</td></tr><tr><td>train_err</td><td>██▇▇▇▇▅▄▃▃▃▂▂▂▂▂▁▁▁▁</td></tr></table><br/></div><div class=\"wandb-col\"><h3>Run summary:</h3><br/><table class=\"wandb\"><tr><td>16_h1</td><td>0.36395</td></tr><tr><td>16_l2</td><td>0.24134</td></tr><tr><td>32_h1</td><td>0.30802</td></tr><tr><td>32_l2</td><td>0.2128</td></tr><tr><td>64_h1</td><td>0.45958</td></tr><tr><td>64_l2</td><td>0.21867</td></tr><tr><td>avg_loss</td><td>0.26475</td></tr><tr><td>lr</td><td>0.002</td></tr><tr><td>time</td><td>0.59011</td></tr><tr><td>train_err</td><td>6.61867</td></tr></table><br/></div></div>"
      ],
      "text/plain": [
       "<IPython.core.display.HTML object>"
      ]
     },
     "metadata": {},
     "output_type": "display_data"
    },
    {
     "data": {
      "text/html": [
       " View run <strong style=\"color:#cdcd00\">decent-totem-4</strong> at: <a href='https://wandb.ai/t-shimizu-kobe-university/neuralop_test/runs/42q5ev6g' target=\"_blank\">https://wandb.ai/t-shimizu-kobe-university/neuralop_test/runs/42q5ev6g</a><br> View project at: <a href='https://wandb.ai/t-shimizu-kobe-university/neuralop_test' target=\"_blank\">https://wandb.ai/t-shimizu-kobe-university/neuralop_test</a><br>Synced 5 W&B file(s), 60 media file(s), 0 artifact file(s) and 0 other file(s)"
      ],
      "text/plain": [
       "<IPython.core.display.HTML object>"
      ]
     },
     "metadata": {},
     "output_type": "display_data"
    },
    {
     "data": {
      "text/html": [
       "Find logs at: <code>./wandb/run-20250129_131314-42q5ev6g/logs</code>"
      ],
      "text/plain": [
       "<IPython.core.display.HTML object>"
      ]
     },
     "metadata": {},
     "output_type": "display_data"
    }
   ],
   "source": [
    "wandb.finish()"
   ]
  }
 ],
 "metadata": {
  "kernelspec": {
   "display_name": ".venv",
   "language": "python",
   "name": "python3"
  },
  "language_info": {
   "codemirror_mode": {
    "name": "ipython",
    "version": 3
   },
   "file_extension": ".py",
   "mimetype": "text/x-python",
   "name": "python",
   "nbconvert_exporter": "python",
   "pygments_lexer": "ipython3",
   "version": "3.10.4"
  }
 },
 "nbformat": 4,
 "nbformat_minor": 0
}
